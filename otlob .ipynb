{
  "nbformat": 4,
  "nbformat_minor": 0,
  "metadata": {
    "colab": {
      "name": "otlob.ipynb",
      "provenance": [],
      "private_outputs": true,
      "machine_shape": "hm"
    },
    "kernelspec": {
      "name": "python3",
      "display_name": "Python 3"
    },
    "accelerator": "GPU"
  },
  "cells": [
    {
      "cell_type": "code",
      "metadata": {
        "id": "OOpCtjRbMVRS",
        "colab_type": "code",
        "colab": {}
      },
      "source": [
        "from google.colab import drive\n",
        "drive.mount('/gdrive')"
      ],
      "execution_count": 0,
      "outputs": []
    },
    {
      "cell_type": "code",
      "metadata": {
        "id": "5y8WLj8nMmn3",
        "colab_type": "code",
        "colab": {}
      },
      "source": [
        "path = \"/gdrive/My Drive/machathon1-main-competition/train.csv\"\n",
        "path2 = \"/gdrive/My Drive/machathon1-main-competition/test.csv\""
      ],
      "execution_count": 0,
      "outputs": []
    },
    {
      "cell_type": "code",
      "metadata": {
        "id": "XFr2I7uQNNqk",
        "colab_type": "code",
        "colab": {}
      },
      "source": [
        "from sklearn.tree import DecisionTreeClassifier\n",
        "from sklearn.ensemble import RandomForestClassifier, AdaBoostClassifier\n",
        "from sklearn.neural_network import MLPClassifier\n",
        "from sklearn.neighbors import KNeighborsClassifier\n",
        "from sklearn.gaussian_process import GaussianProcessClassifier\n",
        "import pandas as pd\n",
        "import matplotlib.pyplot as plt\n",
        "import seaborn as sns\n",
        "import time\n",
        "import numpy as np\n",
        "from scipy import stats\n",
        "from sklearn.model_selection import GridSearchCV\n",
        "from sklearn.metrics import f1_score"
      ],
      "execution_count": 0,
      "outputs": []
    },
    {
      "cell_type": "markdown",
      "metadata": {
        "id": "-PXMDR5s--9g",
        "colab_type": "text"
      },
      "source": [
        "# Loading, cleaning,and preprocessing data"
      ]
    },
    {
      "cell_type": "code",
      "metadata": {
        "id": "WC75CVlnNVJC",
        "colab_type": "code",
        "colab": {}
      },
      "source": [
        "#bring in the six packs\n",
        "data_train = pd.read_csv(path)\n",
        "data_test = pd.read_csv(path2)"
      ],
      "execution_count": 0,
      "outputs": []
    },
    {
      "cell_type": "code",
      "metadata": {
        "id": "38RhhY5ahJts",
        "colab_type": "code",
        "colab": {}
      },
      "source": [
        "target = data_train['Ratings']\n",
        "data_train.drop(['Ratings'],axis=1, inplace=True)\n",
        "\n",
        "sup_id = data_test['Id']\n",
        "data_test.drop(['Id'],axis=1, inplace=True)"
      ],
      "execution_count": 0,
      "outputs": []
    },
    {
      "cell_type": "code",
      "metadata": {
        "id": "NmTO-gF0L33l",
        "colab_type": "code",
        "colab": {}
      },
      "source": [
        "data_train_len = len(data_train) "
      ],
      "execution_count": 0,
      "outputs": []
    },
    {
      "cell_type": "code",
      "metadata": {
        "id": "_7k5jsb6gPiI",
        "colab_type": "code",
        "colab": {}
      },
      "source": [
        "data_train = data_train.append(data_test, ignore_index=True)"
      ],
      "execution_count": 0,
      "outputs": []
    },
    {
      "cell_type": "code",
      "metadata": {
        "id": "ZnM4STfyI7kv",
        "colab_type": "code",
        "colab": {}
      },
      "source": [
        "data_train[\"restaurant_features\"] = data_train[\"restaurant_features\"].fillna(\"None\")"
      ],
      "execution_count": 0,
      "outputs": []
    },
    {
      "cell_type": "code",
      "metadata": {
        "id": "VwPEwiQmMOqj",
        "colab_type": "code",
        "colab": {}
      },
      "source": [
        "data_train.head()"
      ],
      "execution_count": 0,
      "outputs": []
    },
    {
      "cell_type": "code",
      "metadata": {
        "id": "Xen7RLGaWzg_",
        "colab_type": "code",
        "colab": {}
      },
      "source": [
        "data_train.describe()"
      ],
      "execution_count": 0,
      "outputs": []
    },
    {
      "cell_type": "code",
      "metadata": {
        "id": "hYhB1KrJZNfq",
        "colab_type": "code",
        "colab": {}
      },
      "source": [
        "#removing usess coulomns\n",
        "data_train.drop(['restaurant_uuid'],axis=1, inplace=True)\n",
        "data_train.drop(['user_uuid'],axis=1, inplace=True)\n"
      ],
      "execution_count": 0,
      "outputs": []
    },
    {
      "cell_type": "code",
      "metadata": {
        "id": "0tf0zsDZWzwn",
        "colab_type": "code",
        "colab": {}
      },
      "source": [
        "data_train.isnull().sum().sort_values(ascending = True)"
      ],
      "execution_count": 0,
      "outputs": []
    },
    {
      "cell_type": "code",
      "metadata": {
        "id": "j2ZN1P3-NJN3",
        "colab_type": "code",
        "colab": {}
      },
      "source": [
        "data_train.head(5)"
      ],
      "execution_count": 0,
      "outputs": []
    },
    {
      "cell_type": "code",
      "metadata": {
        "id": "F2Z550B3LKQi",
        "colab_type": "code",
        "colab": {}
      },
      "source": [
        "#one hot encoding data\n",
        "oneHE1 = pd.get_dummies(data_train['area'],prefix='', drop_first=True)\n",
        "oneHE2 = pd.get_dummies(data_train['cuisine'],prefix='', drop_first=True)\n",
        "oneHE3 = pd.get_dummies(data_train['restaurant_features'],prefix='', drop_first=True)\n"
      ],
      "execution_count": 0,
      "outputs": []
    },
    {
      "cell_type": "code",
      "metadata": {
        "id": "DnvXSu04DMFk",
        "colab_type": "code",
        "colab": {}
      },
      "source": [
        "data_train = pd.concat([data_train, oneHE1, oneHE2, oneHE3], axis=1, sort=False)"
      ],
      "execution_count": 0,
      "outputs": []
    },
    {
      "cell_type": "code",
      "metadata": {
        "id": "HsMX9Je67HJR",
        "colab_type": "code",
        "colab": {}
      },
      "source": [
        "data_train.drop(['area'],axis=1, inplace=True)\n",
        "data_train.drop(['cuisine'],axis=1, inplace=True)\n",
        "data_train.drop(['restaurant_features'],axis=1, inplace=True)\n"
      ],
      "execution_count": 0,
      "outputs": []
    },
    {
      "cell_type": "markdown",
      "metadata": {
        "id": "ChrgA63C37Xa",
        "colab_type": "text"
      },
      "source": [
        "# model selection"
      ]
    },
    {
      "cell_type": "code",
      "metadata": {
        "id": "6hhMTLE6KRT5",
        "colab_type": "code",
        "colab": {}
      },
      "source": [
        "models = [  \n",
        "    [\"Nearest Neighbors\", KNeighborsClassifier(3)],\n",
        "    [\"Decision Tree\", DecisionTreeClassifier(max_depth=5)],\n",
        "    [\"Random Forest\", RandomForestClassifier(max_depth=5, n_estimators=10, max_features=1)],\n",
        "    [\"Neural Net\", MLPClassifier(alpha=1, max_iter=1000)],\n",
        "    [\"AdaBoost\", AdaBoostClassifier()],\n",
        "        ]"
      ],
      "execution_count": 0,
      "outputs": []
    },
    {
      "cell_type": "code",
      "metadata": {
        "id": "2dLeSZW2BVEK",
        "colab_type": "code",
        "colab": {}
      },
      "source": [
        "# Import train_test_split\n",
        "from sklearn.model_selection import train_test_split\n",
        "train_X, test_X, train_y, test_y = train_test_split(data_train[:data_train_len], \n",
        "                                                    target, \n",
        "                                                    test_size = 0.8, \n",
        "                                                    random_state = 0)"
      ],
      "execution_count": 0,
      "outputs": []
    },
    {
      "cell_type": "code",
      "metadata": {
        "id": "LgqMQkfepvKa",
        "colab_type": "code",
        "colab": {}
      },
      "source": [
        "model_data1 = []\n",
        "models_w1 = []\n",
        "# Run all the proposed models and update the information in a list model_data\n",
        "for name,curr_model in models :\n",
        "    print(name)\n",
        "    curr_model_data1 = {}\n",
        "    curr_model.random_state = 54\n",
        "    curr_model_data1[\"Name\"] = name\n",
        "    curr_model.fit(train_X,train_y)\n",
        "    models_w1.append(curr_model)\n",
        "    print('model ok')\n",
        "    curr_model_data1[\"train_f1_W\"] = (f1_score(train_y,curr_model.predict(train_X),average='weighted'))\n",
        "    curr_model_data1[\"test_f1_W\"] = (f1_score(test_y,curr_model.predict(test_X),average='weighted'))\n",
        "    print(curr_model_data1[\"train_f1_W\"] )\n",
        "    print(curr_model_data1[\"train_f1_W\"] )\n",
        "    model_data1.append(curr_model_data1)\n",
        "scores = pd.DataFrame(model_data1)"
      ],
      "execution_count": 0,
      "outputs": []
    },
    {
      "cell_type": "code",
      "metadata": {
        "id": "WRYtBpBjdZX9",
        "colab_type": "code",
        "colab": {}
      },
      "source": [
        "scores = pd.DataFrame(model_data1)"
      ],
      "execution_count": 0,
      "outputs": []
    },
    {
      "cell_type": "code",
      "metadata": {
        "id": "vn2fU0QSu8gB",
        "colab_type": "code",
        "colab": {}
      },
      "source": [
        "scores"
      ],
      "execution_count": 0,
      "outputs": []
    },
    {
      "cell_type": "markdown",
      "metadata": {
        "id": "45AxItk2BNhp",
        "colab_type": "text"
      },
      "source": [
        "# Grid search "
      ]
    },
    {
      "cell_type": "code",
      "metadata": {
        "id": "X-13loQ2Bu8x",
        "colab_type": "code",
        "colab": {}
      },
      "source": [
        "classifer =  KNeighborsClassifier()\n",
        "\n",
        "grid_parms = { \n",
        "    'n_neighbors' : [3,5,11,19],\n",
        "    'weights' : ['uniform','distance'],\n",
        "    'metric' : ['euclidean','manhattan']\n",
        "} \n",
        "\n",
        "gs =  GridSearchCV(classifer, grid_parms, verbose=1, cv=3, n_jobs=-1)\n",
        "gs_results = gs.fit(train_X,train_y)"
      ],
      "execution_count": 0,
      "outputs": []
    },
    {
      "cell_type": "code",
      "metadata": {
        "id": "B-xaF4eXFcPc",
        "colab_type": "code",
        "colab": {}
      },
      "source": [
        "gs_results.best_params_"
      ],
      "execution_count": 0,
      "outputs": []
    },
    {
      "cell_type": "code",
      "metadata": {
        "id": "BXV59RH0Wk-7",
        "colab_type": "code",
        "colab": {}
      },
      "source": [
        "predections = gs_results.best_estimator_.predict(data_train[data_train_len:])"
      ],
      "execution_count": 0,
      "outputs": []
    },
    {
      "cell_type": "markdown",
      "metadata": {
        "id": "iOtMxsVTqJh7",
        "colab_type": "text"
      },
      "source": [
        "# convert results to csv to uploade it to kaggle"
      ]
    },
    {
      "cell_type": "code",
      "metadata": {
        "id": "QntNoroi18iI",
        "colab_type": "code",
        "colab": {}
      },
      "source": [
        "lenn = len(predections)"
      ],
      "execution_count": 0,
      "outputs": []
    },
    {
      "cell_type": "code",
      "metadata": {
        "id": "SRi8H-UJs1JX",
        "colab_type": "code",
        "colab": {}
      },
      "source": [
        "np.reshape(predections, (lenn, 1))"
      ],
      "execution_count": 0,
      "outputs": []
    },
    {
      "cell_type": "code",
      "metadata": {
        "id": "vIp9zYuIT6lf",
        "colab_type": "code",
        "colab": {}
      },
      "source": [
        "dataid = pd.read_csv(\"/gdrive/My Drive/machathon1-main-competition/test.csv\")\n",
        "dataid['Ratings'] = predections.tolist()\n",
        "ready = dataid[['Id','Ratings']].copy()\n",
        "ready.to_csv('/gdrive/My Drive/machathon1-main-competition/Submission.csv', index=False)"
      ],
      "execution_count": 0,
      "outputs": []
    }
  ]
}